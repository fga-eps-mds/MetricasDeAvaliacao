{
 "cells": [
  {
   "cell_type": "code",
   "execution_count": 17,
   "metadata": {},
   "outputs": [],
   "source": [
    "from github import Github\n",
    "import plotly\n",
    "import plotly.plotly as py\n",
    "from plotly.graph_objs import *\n",
    "from collections import *\n",
    "from pprint import pprint\n",
    "from datetime import datetime, timedelta\n",
    "import matplotlib.pyplot as plt"
   ]
  },
  {
   "cell_type": "code",
   "execution_count": 18,
   "metadata": {},
   "outputs": [],
   "source": [
    "# Create a Github instance:\n",
    "g = Github(\"9324fedffc85017817ff2533e9237fc81fc611a9\")\n",
    "\n",
    "# Find my user\n",
    "user = g.get_user()\n",
    "\n",
    "# Find the organization I want\n",
    "org = g.get_organization(\"fga-gpp-mds\")\n",
    "\n",
    "# Get all repos from my account, including from organizations\n",
    "repos = user.get_repos()\n",
    "\n",
    "# Get the repo, either from user or organization, uncomment the repo you want. (Only one repo can be uncommented)\n",
    "\n",
    "# repo = org.get_repo(\"Falko-2017.2-BackEnd\")\n",
    "# repo = org.get_repo(\"2017.1-OndeE-UnB\")\n",
    "# repo = org.get_repo(\"2017.2-Receituario-Medico\")\n",
    "# repo = org.get_repo(\"2017.2-Deputinder\")\n",
    "# repo = org.get_repo(\"2017.2-QueroCultura\")\n",
    "# repo = org.get_repo(\"2016.2-MissaoNascente\")\n",
    "# repo = org.get_repo(\"2017.2-Classificacao-de-Risco-Pediatrico\")\n",
    "# repo = org.get_repo(\"2017.1-PlataformaJogosUnB\")\n",
    "# repo = org.get_repo(\"2016.1-AbasteceAqui\")\n",
    "# repo = org.get_repo(\"2017.1-Trezentos\")\n",
    "# repo = user.get_repo(\"timer\")\n",
    "# repo = user.get_repo(\"pesquini\")"
   ]
  },
  {
   "cell_type": "code",
   "execution_count": 190,
   "metadata": {},
   "outputs": [],
   "source": [
    "#\n",
    "# 2018.1\n",
    "#\n",
    "# repo = org.get_repo(\"2018.1_Gerencia_mais\")\n",
    "# repo = org.get_repo(\"2018.1-Dr-Down\")\n",
    "# repo = org.get_repo(\"2018.1-Dulce_App\")\n",
    "# repo = org.get_repo(\"2018.1-TropicalHazards-BI\")\n",
    "# repo = org.get_repo(\"2018.1-TropicalHazards-BI-FrontEnd\")\n",
    "# repo = org.get_repo(\"2018.1_Nexte\")\n",
    "# repo = org.get_repo(\"2018.1-Reabilitacao-Motora\")\n",
    "# repo = org.get_repo(\"2018.1-VoxPop-WebApp\")\n",
    "repo = org.get_repo(\"2018.1-IncluCare_API\")\n",
    "# repo = org.get_repo(\"2018.1-IncluCare\")\n",
    "# repo = org.get_repo(\"2018.1-Lacos-da-Alegria\")\n",
    "# repo = org.get_repo(\"2018.1-VoxPop-API\")\n",
    "# repo = org.get_repo(\"2018.1-Cardinals\")\n",
    "# repo = org.get_repo(\"2018.1-Dulce_API\")\n",
    "# repo = org.get_repo(\"2018.1-Lacos-da-Alegria-API\")\n"
   ]
  },
  {
   "cell_type": "code",
   "execution_count": 191,
   "metadata": {},
   "outputs": [],
   "source": [
    "all_commit_count = defaultdict(list)\n",
    "signed_commit_count = Counter()"
   ]
  },
  {
   "cell_type": "code",
   "execution_count": 192,
   "metadata": {},
   "outputs": [],
   "source": [
    "for commit in repo.get_commits():\n",
    "    real_date = commit.commit.author.date - timedelta(hours=2)\n",
    "    all_commit_count[real_date.date()].append(commit.commit)\n",
    "#     for saved_commit in all_commit_count[real_date.date()]:\n",
    "#         if \"Merge\" in saved_commit.message or \"Merging\" in saved_commit.message:\n",
    "#             all_commit_count[real_date.date()].remove(saved_commit)\n",
    "    if (commit.commit.message.count(\"Co-authored-by:\") > 1 or (commit.commit.message.count(\"Co-authored-by:\") == 1)) or (commit.commit.message.count(\"Signed-off-by:\") > 1 or (commit.commit.message.count(\"Signed-off-by:\") == 1 and\n",
    "            commit.commit.author.email not in commit.commit.message) or ((commit.commit.author.email != commit.commit.committer.email) \n",
    "                                           and (\"noreply@github.com\" not in commit.commit.committer.email))):\n",
    "\n",
    "        signed_commit_count[real_date.date()] += 1\n",
    "    else:\n",
    "        signed_commit_count[real_date.date()] += 0"
   ]
  },
  {
   "cell_type": "code",
   "execution_count": 193,
   "metadata": {},
   "outputs": [
    {
     "name": "stdout",
     "output_type": "stream",
     "text": [
      "2018.1-IncluCare_API\n"
     ]
    }
   ],
   "source": [
    "commit_count = {k: len(v) for k, v in all_commit_count.items()}\n",
    "\n",
    "dates = list(commit_count.keys())\n",
    "dates.sort()\n",
    "\n",
    "commit_count = sorted(commit_count.items())\n",
    "all_amount_by_date = [x[1] for x in commit_count]\n",
    "signed_commit_count = sorted(signed_commit_count.items())\n",
    "signed_amount_by_date = [x[1] for x in signed_commit_count]\n",
    "\n",
    "label = repo.name\n",
    "label\n",
    "print(label)"
   ]
  },
  {
   "cell_type": "code",
   "execution_count": 194,
   "metadata": {},
   "outputs": [
    {
     "data": {
      "text/html": [
       "<iframe id=\"igraph\" scrolling=\"no\" style=\"border:none;\" seamless=\"seamless\" src=\"https://plot.ly/~joaaogui/95.embed\" height=\"525px\" width=\"100%\"></iframe>"
      ],
      "text/plain": [
       "<plotly.tools.PlotlyDisplay object>"
      ]
     },
     "execution_count": 194,
     "metadata": {},
     "output_type": "execute_result"
    }
   ],
   "source": [
    "# Setting up plotly\n",
    "plotly.tools.set_credentials_file(username='joaaogui', api_key='2TfVhKWEO6rpuxlj7c6R')\n",
    "# Setting the privacy of the chart\n",
    "plotly.tools.set_config_file(world_readable=True, sharing='public')\n",
    "\n",
    "# Setting up the data for the chart\n",
    "trace0 = Scatter(\n",
    "    x=dates,\n",
    "    y=all_amount_by_date,\n",
    "    name='All Commits'\n",
    ")\n",
    "trace1 = Scatter(\n",
    "    x=dates,\n",
    "    y=signed_amount_by_date,\n",
    "    name=\"Signed-Off-By Commits\"\n",
    ")\n",
    "data = Data([trace0, trace1])\n",
    "title1 = \"Pair programming evolution during project - \" + label[7:]\n",
    "# Setting the layout for the chart\n",
    "layout = Layout(title=title1,\n",
    "                xaxis=dict(title='Date of commit'),\n",
    "                yaxis=dict(title='Amount of commits'))\n",
    "\n",
    "chart = Figure(data=data, layout=layout)\n",
    "\n",
    "\n",
    "py.iplot(chart, filename = 'Signed-off-by whitout merges')"
   ]
  },
  {
   "cell_type": "code",
   "execution_count": null,
   "metadata": {},
   "outputs": [],
   "source": []
  },
  {
   "cell_type": "code",
   "execution_count": null,
   "metadata": {},
   "outputs": [],
   "source": []
  }
 ],
 "metadata": {
  "kernelspec": {
   "display_name": "Python 3",
   "language": "python",
   "name": "python3"
  },
  "language_info": {
   "codemirror_mode": {
    "name": "ipython",
    "version": 3
   },
   "file_extension": ".py",
   "mimetype": "text/x-python",
   "name": "python",
   "nbconvert_exporter": "python",
   "pygments_lexer": "ipython3",
   "version": "3.6.5"
  }
 },
 "nbformat": 4,
 "nbformat_minor": 2
}
