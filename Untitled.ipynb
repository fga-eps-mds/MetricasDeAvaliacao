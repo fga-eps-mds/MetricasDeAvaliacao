{
 "cells": [
  {
   "cell_type": "code",
   "execution_count": 1,
   "metadata": {},
   "outputs": [
    {
     "name": "stdout",
     "output_type": "stream",
     "text": [
      "2018-01-09 12:51:02\n",
      "2018-01-09 12:50:31\n",
      "2018-01-08 18:28:52\n",
      "2018-01-05 21:58:31\n",
      "2018-01-05 21:04:56\n",
      "2017-12-28 20:01:26\n",
      "2017-12-20 12:40:37\n",
      "2017-12-14 16:58:53\n",
      "2017-12-14 16:55:49\n",
      "2017-12-14 16:55:10\n",
      "2017-12-14 16:46:05\n",
      "[1, 1, 1, 1, 1, 1, 1, 1, 1, 1, 1]\n"
     ]
    }
   ],
   "source": [
    "from github import Github\n",
    "import plotly\n",
    "import plotly.plotly as py\n",
    "from plotly.graph_objs import *\n",
    "\n",
    "# First create a Github instance:\n",
    "# or using an access token\n",
    "g = Github(\"05f6acd2c70a44d115e64aa5bab6b870e83352b9\")\n",
    "counter = list()\n",
    "allCommits = list()\n",
    "dates = list()\n",
    "quantity = 0\n",
    "user = g.get_user()\n",
    "org=g.get_organization(\"fga-gpp-mds\")\n",
    "repos = user.get_repos()\n",
    "lastcommit = \"\"\n",
    "lista= list()\n",
    "# for repo in repos:\n",
    "#     print(repo.name)\n",
    "\n",
    "# timer = org.get_repo(\"2017.2-Receituario-Medico\")\n",
    "timer = user.get_repo(\"timer\")\n",
    "timerCommits = timer.get_commits()\n",
    "for commit in timerCommits:\n",
    "    # print(commit.commit.message)\n",
    "    dates.append(commit.commit.author.date)\n",
    "\n",
    "for date in dates:\n",
    "    print(date)\n",
    "    x = dates.count(date)\n",
    "    lista.append(x)\n",
    "print(lista)\n",
    "# for commit in timerCommits:\n",
    "#     lastcommit = commit\n",
    "#     print(lastcommit.commit.author.date)\n",
    "#     print(commit.commit.author.date)\n",
    "#     quantity+=1\n",
    "#     if lastcommit.commit.author.date == commit.commit.author.date:\n",
    "#             quantity += 1\n",
    "#             print(\"entrou\")\n",
    "#     print(\"-\")\n",
    "\n",
    "        # if \"Signed-off-by:\" in commit.commit.message:\n",
    "        #     counter.append(1)\n",
    "        # else:\n",
    "        #     counter.append(0)\n",
    "#\n",
    "    # allCommits.append(quantity)\n",
    "#     quantity = 0\n",
    "# print(allCommits)\n",
    "# print(len(dates))\n",
    "# print(\"Commits com signed by off: \" + str(sum(counter)))\n",
    "# print(\"Todos commits: \" + str(sum(allCommits)))\n",
    "\n",
    "# Setting up plotly\n",
    "# plotly.tools.set_credentials_file(username='joaaogui', api_key='2TfVhKWEO6rpuxlj7c6R')\n",
    "# # # Setting the privacy of the chart\n",
    "# plotly.tools.set_config_file(world_readable=True, sharing='public')\n",
    "# #\n",
    "# trace0 = Scatter(\n",
    "#     x=dates,\n",
    "#     y=counter\n",
    "# )\n",
    "# trace1 = Scatter(\n",
    "#     x=dates,\n",
    "#     y=allCommits\n",
    "# )\n",
    "# data = Data([trace0, trace1])\n",
    "\n",
    "# py.plot(data, filename = 'basic-line')\n"
   ]
  },
  {
   "cell_type": "code",
   "execution_count": null,
   "metadata": {},
   "outputs": [],
   "source": []
  }
 ],
 "metadata": {
  "kernelspec": {
   "display_name": "Python 3",
   "language": "python",
   "name": "python3"
  },
  "language_info": {
   "codemirror_mode": {
    "name": "ipython",
    "version": 3
   },
   "file_extension": ".py",
   "mimetype": "text/x-python",
   "name": "python",
   "nbconvert_exporter": "python",
   "pygments_lexer": "ipython3",
   "version": "3.5.2"
  }
 },
 "nbformat": 4,
 "nbformat_minor": 2
}
