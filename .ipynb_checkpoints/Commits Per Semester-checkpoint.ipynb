{
 "cells": [
  {
   "cell_type": "code",
   "execution_count": 96,
   "metadata": {},
   "outputs": [],
   "source": [
    "from github import Github\n",
    "import plotly.plotly as py\n",
    "from plotly.graph_objs import *"
   ]
  },
  {
   "cell_type": "code",
   "execution_count": 69,
   "metadata": {},
   "outputs": [],
   "source": [
    "# Create a Github instance:\n",
    "g = Github(\"9324fedffc85017817ff2533e9237fc81fc611a9\")\n",
    "\n",
    "# Find the organization I want\n",
    "org = g.get_organization(\"fga-gpp-mds\")\n",
    "\n",
    "# Get all repos from my account, including from organizations\n",
    "repos = org.get_repos()"
   ]
  },
  {
   "cell_type": "code",
   "execution_count": 159,
   "metadata": {},
   "outputs": [],
   "source": [
    "repo_list = list()\n",
    "amount = list()"
   ]
  },
  {
   "cell_type": "code",
   "execution_count": 160,
   "metadata": {},
   "outputs": [],
   "source": [
    "repo_commits = {'2016.1-Partiu_backend': 85, '2016.1-Partiu_frontend': 403, '2016.1-avalia_mais': 379, '2016.1-AbasteceAqui': 547, '2016.1-Emergo': 343, '2016.1-TemRemedioAi': 346, '2016.1-Purrsuit_front': 45, '2016.1-elugar': 302, '2016.1-Purrsuit_back': 178, '2016.2-WikiLegis': 758, '2016.2-MissaoNascente': 491, '2012.2-Owla': 520, '2016.2-Observatorio-de-Residuos-Frontend': 687, '2016.2-SAS_FGA': 1302, '2016.2-Jardim-Botanico-Web': 1118, '2016.2-SME_UnB': 406, '2016.2-CidadeDemocratica': 442, '2016.2-SAAP': 372, '2016.2-CidadeDemocratica-api': 79, '2016.2-Observatorio-de-Residuos-Backend': 294, '2017.1-PlataformaJogosUnB': 1004, '2017.1-Trezentos': 405, '2017.1-Forum-Coordenadores-DEG': 406, '2017.1-Escola-X': 832, '2017.1-SIGS': 921, '2017.1-Cadernos-API': 342, '2017.1-OndeE-UnB': 651, '2017.1-Trezentos-RestAPI': 78, '2017.1-DEG-API': 73, '2017.1-Cadernos-APP': 420, '2017.1-PlataformaJogosUnB-FrontEnd': 8, '2017.1-Escola-X.app': 87, '2017.2-AjudaConselheiro-Backend': 26, '2017.2-Receita-Mais': 1022, '2017.2-MerendaMais': 1002, '2017.2-Classificacao-de-Risco-Pediatrico': 1047, '2017.2-DepuTinder': 556, '2017.2-QueroCultura': 1208, '2017.2-SiGI-Op_API': 342, '2017-2-fisCAE': 634, '2017.2-SiGI-Op': 425, '2017.2-AjudaConselheiro-Frontend': 783, '2017.2-MerendaMais-Backend': 17, '2017.2-DepuTinder-API': 221, '2017.2-Falko-FrontEnd': 807, '2017.2-Falko-BackEnd': 656, '2018.1-Reabilitacao-Motora': 1118, '2018.1-Cardinals': 616, '2018.1-TropicalHazards-BI': 651, '2018.1_Nexte': 1824, '2018.1-Dr-Down': 1863, '2018.1_Gerencia_mais': 861, '2018.1-VoxPop-WebApp': 660, '2018.1-Lacos-da-Alegria': 636, '2018.1-IncluCare_API': 224, '2018.1-VoxPop-API': 191, '2018.1-Lacos-da-Alegria-API': 235, '2018.1-TropicalHazards-BI-FrontEnd': 461, '2018.1-IncluCare': 283, '2018.1-Reabilitacao-Motora-Launcher': 35, '2018.1-Dulce_App': 1175, '2018.1-Reabilitacao-Motora-Spatium-API': 16, '2018.1-Reabilitacao-Motora-UDP-App-Android': 7}"
   ]
  },
  {
   "cell_type": "code",
   "execution_count": 162,
   "metadata": {},
   "outputs": [],
   "source": [
    "# repo_list = list(repo_commits.keys())\n",
    "for idx, repo in enumerate(list(repo_commits.keys())):\n",
    "    if repo[:3] == \"201\":\n",
    "        name = repo[:6]\n",
    "        repo_list.append(name)\n",
    "amount = list(repo_commits.values())"
   ]
  },
  {
   "cell_type": "code",
   "execution_count": 163,
   "metadata": {
    "scrolled": true
   },
   "outputs": [
    {
     "data": {
      "text/html": [
       "<iframe id=\"igraph\" scrolling=\"no\" style=\"border:none;\" seamless=\"seamless\" src=\"https://plot.ly/~joaaogui/123.embed\" height=\"525px\" width=\"100%\"></iframe>"
      ],
      "text/plain": [
       "<plotly.tools.PlotlyDisplay object>"
      ]
     },
     "execution_count": 163,
     "metadata": {},
     "output_type": "execute_result"
    }
   ],
   "source": [
    "# Setting up plotly\n",
    "plotly.tools.set_credentials_file(username='joaaogui', api_key='2TfVhKWEO6rpuxlj7c6R')\n",
    "# Setting the privacy of the chart\n",
    "plotly.tools.set_config_file(world_readable=True, sharing='public')\n",
    "# py.sign_in('username', 'api_key')\n",
    "trace1 = {\n",
    "  \"x\": repo_list,\n",
    "  \"y\": amount, \n",
    "  \"mode\": \"markers\", \n",
    "  \"type\": \"scatter\", \n",
    "}\n",
    "data = Data([trace1])\n",
    "layout = {\n",
    "    \"title\": \"Commits por semestre\",\n",
    "  \"xaxis\": {\"title\": \"Semestre\"}, \n",
    "  \"yaxis\": {\n",
    "    \"title\": \"Quantidade De Commits\", \n",
    "    \"zeroline\": False\n",
    "  }\n",
    "}\n",
    "fig = Figure(data=data, layout=layout)\n",
    "py.iplot(fig, filename = 'Commit per semmester')"
   ]
  },
  {
   "cell_type": "code",
   "execution_count": null,
   "metadata": {},
   "outputs": [],
   "source": []
  }
 ],
 "metadata": {
  "kernelspec": {
   "display_name": "Python 3",
   "language": "python",
   "name": "python3"
  },
  "language_info": {
   "codemirror_mode": {
    "name": "ipython",
    "version": 3
   },
   "file_extension": ".py",
   "mimetype": "text/x-python",
   "name": "python",
   "nbconvert_exporter": "python",
   "pygments_lexer": "ipython3",
   "version": "3.6.5"
  }
 },
 "nbformat": 4,
 "nbformat_minor": 2
}
