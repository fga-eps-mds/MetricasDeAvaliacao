{
 "cells": [
  {
   "cell_type": "code",
   "execution_count": 1,
   "metadata": {},
   "outputs": [],
   "source": [
    "from github import Github\n",
    "import plotly\n",
    "import plotly.plotly as py\n",
    "from plotly.graph_objs import *\n",
    "from collections import *\n",
    "from pprint import pprint\n",
    "from datetime import datetime, timedelta\n",
    "import matplotlib.pyplot as plt"
   ]
  },
  {
   "cell_type": "code",
   "execution_count": 2,
   "metadata": {},
   "outputs": [
    {
     "ename": "SyntaxError",
     "evalue": "invalid syntax (<ipython-input-2-a3a4c9d0a4b9>, line 11)",
     "output_type": "error",
     "traceback": [
      "\u001b[0;36m  File \u001b[0;32m\"<ipython-input-2-a3a4c9d0a4b9>\"\u001b[0;36m, line \u001b[0;32m11\u001b[0m\n\u001b[0;31m    t, including from organizations\u001b[0m\n\u001b[0m                    ^\u001b[0m\n\u001b[0;31mSyntaxError\u001b[0m\u001b[0;31m:\u001b[0m invalid syntax\n"
     ]
    }
   ],
   "source": [
    "# Create a Github instance:\n",
    "g = Github(\"9324fedffc85017817ff2533e9237fc81fc611a9\")\n",
    "\n",
    "# Find my user\n",
    "user = g.get_user()\n",
    "\n",
    "# Find the organization I want\n",
    "org = g.get_organization(\"fga-gpp-mds\")\n",
    "\n",
    "# Get all repos from my account, including from organizations\n",
    "repos = user.get_repos()\n",
    "\n",
    "# Get the repo, either from user or organization, uncomment the repo you want. (Only one repo can be uncommented)\n",
    "\n",
    "# repo = org.get_repo(\"Falko-2017.2-BackEnd\")\n",
    "# repo = org.get_repo(\"2017.1-OndeE-UnB\")\n",
    "repo = org.get_repo(\"2017.2-Receituario-Medico\")\n",
    "# repo = org.get_repo(\"2017.2-QueroCultura\")\n",
    "# repo = org.get_repo(\"2016.2-MissaoNascente\")\n",
    "# repo = org.get_repo(\"2017.2-Classificacao-de-Risco-Pediatrico\")\n",
    "# repo = org.get_repo(\"2017.1-PlataformaJogosUnB\")\n",
    "# repo = org.get_repo(\"2016.1-AbasteceAqui\")\n",
    "# repo = org.get_repo(\"2017.1-Trezentos\")\n",
    "# repo = user.get_repo(\"timer\")\n",
    "# repo = user.get_repo(\"pesquini\")"
   ]
  },
  {
   "cell_type": "code",
   "execution_count": null,
   "metadata": {},
   "outputs": [],
   "source": [
    "all_commit_count = defaultdict(list)\n",
    "signed_commit_count = Counter()"
   ]
  },
  {
   "cell_type": "code",
   "execution_count": null,
   "metadata": {},
   "outputs": [],
   "source": [
    "for commit in repo.get_commits():\n",
    "    real_date = commit.commit.author.date - timedelta(hours=2)\n",
    "    all_commit_count[real_date.date()].append(commit.commit)\n",
    "    for saved_commit in all_commit_count[real_date.date()]:\n",
    "        if \"Merge\" in saved_commit.message or \"Merging\" in saved_commit.message:\n",
    "            all_commit_count[real_date.date()].remove(saved_commit)\n",
    "    if commit.commit.message.count(\"Signed-off-by:\") > 1 or (commit.commit.message.count(\"Signed-off-by:\") == 1 and\n",
    "            commit.commit.author.email not in commit.commit.message) or ((commit.commit.author.email != commit.commit.committer.email) \n",
    "                                           and (\"noreply@github.com\" not in commit.commit.committer.email)):\n",
    "        signed_commit_count[real_date.date()] += 1\n",
    "    else:\n",
    "        signed_commit_count[real_date.date()] += 0"
   ]
  },
  {
   "cell_type": "code",
   "execution_count": 3,
   "metadata": {},
   "outputs": [
    {
     "ename": "NameError",
     "evalue": "name 'all_commit_count' is not defined",
     "output_type": "error",
     "traceback": [
      "\u001b[0;31m---------------------------------------------------------------------------\u001b[0m",
      "\u001b[0;31mNameError\u001b[0m                                 Traceback (most recent call last)",
      "\u001b[0;32m<ipython-input-3-f91061a32e96>\u001b[0m in \u001b[0;36m<module>\u001b[0;34m()\u001b[0m\n\u001b[0;32m----> 1\u001b[0;31m \u001b[0mcommit_count\u001b[0m \u001b[0;34m=\u001b[0m \u001b[0;34m{\u001b[0m\u001b[0mk\u001b[0m\u001b[0;34m:\u001b[0m \u001b[0mlen\u001b[0m\u001b[0;34m(\u001b[0m\u001b[0mv\u001b[0m\u001b[0;34m)\u001b[0m \u001b[0;32mfor\u001b[0m \u001b[0mk\u001b[0m\u001b[0;34m,\u001b[0m \u001b[0mv\u001b[0m \u001b[0;32min\u001b[0m \u001b[0mall_commit_count\u001b[0m\u001b[0;34m.\u001b[0m\u001b[0mitems\u001b[0m\u001b[0;34m(\u001b[0m\u001b[0;34m)\u001b[0m\u001b[0;34m}\u001b[0m\u001b[0;34m\u001b[0m\u001b[0m\n\u001b[0m\u001b[1;32m      2\u001b[0m \u001b[0;34m\u001b[0m\u001b[0m\n\u001b[1;32m      3\u001b[0m \u001b[0mdates\u001b[0m \u001b[0;34m=\u001b[0m \u001b[0mlist\u001b[0m\u001b[0;34m(\u001b[0m\u001b[0mcommit_count\u001b[0m\u001b[0;34m.\u001b[0m\u001b[0mkeys\u001b[0m\u001b[0;34m(\u001b[0m\u001b[0;34m)\u001b[0m\u001b[0;34m)\u001b[0m\u001b[0;34m\u001b[0m\u001b[0m\n\u001b[1;32m      4\u001b[0m \u001b[0mdates\u001b[0m\u001b[0;34m.\u001b[0m\u001b[0msort\u001b[0m\u001b[0;34m(\u001b[0m\u001b[0;34m)\u001b[0m\u001b[0;34m\u001b[0m\u001b[0m\n\u001b[1;32m      5\u001b[0m \u001b[0;34m\u001b[0m\u001b[0m\n",
      "\u001b[0;31mNameError\u001b[0m: name 'all_commit_count' is not defined"
     ]
    }
   ],
   "source": [
    "commit_count = {k: len(v) for k, v in all_commit_count.items()}\n",
    "\n",
    "dates = list(commit_count.keys())\n",
    "dates.sort()\n",
    "\n",
    "commit_count = sorted(commit_count.items())\n",
    "all_amount_by_date = [x[1] for x in commit_count]\n",
    "signed_commit_count = sorted(signed_commit_count.items())\n",
    "signed_amount_by_date = [x[1] for x in signed_commit_count]"
   ]
  },
  {
   "cell_type": "code",
   "execution_count": 66,
   "metadata": {},
   "outputs": [
    {
     "data": {
      "text/html": [
       "<iframe id=\"igraph\" scrolling=\"no\" style=\"border:none;\" seamless=\"seamless\" src=\"https://plot.ly/~joaaogui/6.embed\" height=\"525px\" width=\"100%\"></iframe>"
      ],
      "text/plain": [
       "<plotly.tools.PlotlyDisplay object>"
      ]
     },
     "execution_count": 66,
     "metadata": {},
     "output_type": "execute_result"
    }
   ],
   "source": [
    "# Setting up plotly\n",
    "plotly.tools.set_credentials_file(username='joaaogui', api_key='2TfVhKWEO6rpuxlj7c6R')\n",
    "# Setting the privacy of the chart\n",
    "plotly.tools.set_config_file(world_readable=True, sharing='public')\n",
    "\n",
    "# Setting up the data for the chart\n",
    "trace0 = Scatter(\n",
    "    x=dates,\n",
    "    y=all_amount_by_date,\n",
    "    name='All Commits'\n",
    ")\n",
    "trace1 = Scatter(\n",
    "    x=dates,\n",
    "    y=signed_amount_by_date,\n",
    "    name=\"Signed-Off-By Commits\"\n",
    ")\n",
    "data = Data([trace0, trace1])\n",
    "\n",
    "# Setting the layout for the chart\n",
    "layout = Layout(title=\"Pair programming evolution during project\",\n",
    "                xaxis=dict(title='Date of commit'),\n",
    "                yaxis=dict(title='Amount of commits'))\n",
    "\n",
    "chart = Figure(data=data, layout=layout)\n",
    "\n",
    "\n",
    "py.iplot(chart, filename = 'Signed-off-by whitout merges')"
   ]
  },
  {
   "cell_type": "code",
   "execution_count": null,
   "metadata": {},
   "outputs": [],
   "source": []
  }
 ],
 "metadata": {
  "kernelspec": {
   "display_name": "Python 3",
   "language": "python",
   "name": "python3"
  },
  "language_info": {
   "codemirror_mode": {
    "name": "ipython",
    "version": 3
   },
   "file_extension": ".py",
   "mimetype": "text/x-python",
   "name": "python",
   "nbconvert_exporter": "python",
   "pygments_lexer": "ipython3",
   "version": "3.5.2"
  }
 },
 "nbformat": 4,
 "nbformat_minor": 2
}
