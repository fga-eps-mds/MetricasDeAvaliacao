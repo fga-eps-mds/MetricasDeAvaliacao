{
 "cells": [
  {
   "cell_type": "code",
   "execution_count": 30,
   "metadata": {},
   "outputs": [],
   "source": [
    "from github import Github\n",
    "from datetime import datetime, timedelta\n",
    "import plotly.plotly as py\n",
    "import plotly\n",
    "from plotly.graph_objs import *\n",
    "from collections import Counter"
   ]
  },
  {
   "cell_type": "code",
   "execution_count": 37,
   "metadata": {},
   "outputs": [],
   "source": [
    "# Create a Github instance:\n",
    "g = Github(\"9324fedffc85017817ff2533e9237fc81fc611a9\")\n",
    "\n",
    "# Find my user\n",
    "user = g.get_user()\n",
    "\n",
    "# Find the organization I want\n",
    "org = g.get_organization(\"fga-gpp-mds\")\n",
    "\n",
    "# Get all repos from my account, including from organizations\n",
    "repos = user.get_repos()\n",
    "\n",
    "# Get the repo, either from user or organization, uncomment the repo you want. (Only one repo can be uncommented)\n",
    "\n",
    "# repo = org.get_repo(\"Falko-2017.2-BackEnd\")\n",
    "# repo = org.get_repo(\"2017.2-Receituario-Medico\")\n",
    "# repo = org.get_repo(\"2017.2-QueroCultura\")\n",
    "# repo = org.get_repo(\"2016.2-MissaoNascente\")\n",
    "# repo = org.get_repo(\"2017.2-Classificacao-de-Risco-Pediatrico\")\n",
    "# repo = org.get_repo(\"2017.1-PlataformaJogosUnB\")\n",
    "# repo = org.get_repo(\"2016.1-AbasteceAqui\")\n",
    "# repo = user.get_repo(\"timer\")"
   ]
  },
  {
   "cell_type": "code",
   "execution_count": 95,
   "metadata": {},
   "outputs": [],
   "source": [
    "#\n",
    "# 2018.1\n",
    "#\n",
    "# repo = org.get_repo(\"2018.1_Gerencia_mais\")\n",
    "# repo = org.get_repo(\"2018.1-Dr-Down\")\n",
    "# repo = org.get_repo(\"2018.1-Dulce_App\")\n",
    "# repo = org.get_repo(\"2018.1-TropicalHazards-BI\")\n",
    "# repo = org.get_repo(\"2018.1-TropicalHazards-BI-FrontEnd\")\n",
    "# repo = org.get_repo(\"2018.1_Nexte\")\n",
    "# repo = org.get_repo(\"2018.1-Reabilitacao-Motora\")\n",
    "# repo = org.get_repo(\"2018.1-VoxPop-WebApp\")\n",
    "# repo = org.get_repo(\"2018.1-IncluCare_API\")\n",
    "# repo = org.get_repo(\"2018.1-IncluCare\")\n",
    "# repo = org.get_repo(\"2018.1-Lacos-da-Alegria\")\n",
    "# repo = org.get_repo(\"2018.1-VoxPop-API\")\n",
    "repo = org.get_repo(\"2018.1-Cardinals\")\n",
    "# repo = org.get_repo(\"2018.1-Dulce_API\")\n",
    "# repo = org.get_repo(\"2018.1-Lacos-da-Alegria-API\")\n"
   ]
  },
  {
   "cell_type": "code",
   "execution_count": 96,
   "metadata": {},
   "outputs": [],
   "source": [
    "issues = repo.get_issues(state=\"all\")\n",
    "all_issues = []\n",
    "time_open = Counter()\n",
    "\n",
    "\n",
    "for issue in issues:\n",
    "    if issue.pull_request == None:\n",
    "        created_time = issue.created_at - timedelta(hours=2)\n",
    "        if issue.state == \"closed\":\n",
    "            closed_time = issue.closed_at - timedelta(hours=2)\n",
    "        else:\n",
    "            closed_time = datetime.now()\n",
    "        all_issues.append(issue)\n",
    "        \n",
    "        time_open[(closed_time - created_time).days] += 1"
   ]
  },
  {
   "cell_type": "code",
   "execution_count": 97,
   "metadata": {},
   "outputs": [
    {
     "name": "stdout",
     "output_type": "stream",
     "text": [
      "[0, 1, 2, 3, 4, 5, 7, 8, 9, 10, 11, 12, 15, 16, 22, 23, 26, 29]\n",
      "[9, 3, 2, 2, 3, 2, 2, 3, 1, 1, 1, 1, 1, 1, 20, 2, 1, 1]\n",
      "2018.1-Cardinals\n",
      "3.111111111111111\n"
     ]
    }
   ],
   "source": [
    "days = list(time_open.keys())\n",
    "days.sort()\n",
    "print(days)\n",
    "\n",
    "time_open = sorted(time_open.items())\n",
    "amount = [x[1] for x in time_open]\n",
    "print(amount)\n",
    "\n",
    "mean = sum(amount)/len(amount)\n",
    "\n",
    "label = repo.name\n",
    "label\n",
    "print(label)\n",
    "print(mean)"
   ]
  },
  {
   "cell_type": "code",
   "execution_count": 98,
   "metadata": {},
   "outputs": [
    {
     "data": {
      "text/html": [
       "<iframe id=\"igraph\" scrolling=\"no\" style=\"border:none;\" seamless=\"seamless\" src=\"https://plot.ly/~joaaogui/93.embed\" height=\"525px\" width=\"100%\"></iframe>"
      ],
      "text/plain": [
       "<plotly.tools.PlotlyDisplay object>"
      ]
     },
     "execution_count": 98,
     "metadata": {},
     "output_type": "execute_result"
    }
   ],
   "source": [
    "# Setting up plotly\n",
    "plotly.tools.set_credentials_file(username='joaaogui', api_key='2TfVhKWEO6rpuxlj7c6R')\n",
    "# Setting the privacy of the chart\n",
    "plotly.tools.set_config_file(world_readable=True, sharing='public')\n",
    "\n",
    "data = [Bar(x=days,\n",
    "            y=amount)]\n",
    "\n",
    "title1 = \"Active time of issues in project - \" + label[7:] + \" - Média: \" + str(mean)\n",
    "\n",
    "layout = Layout(title=title1,\n",
    "                xaxis=dict(title='Days the issue was active'),\n",
    "                yaxis=dict(title='Amount of issues'))\n",
    "\n",
    "chart = Figure(data=data, layout=layout)\n",
    "\n",
    "py.iplot(chart, filename='basic_bar')"
   ]
  },
  {
   "cell_type": "code",
   "execution_count": null,
   "metadata": {},
   "outputs": [],
   "source": []
  }
 ],
 "metadata": {
  "kernelspec": {
   "display_name": "Python 3",
   "language": "python",
   "name": "python3"
  },
  "language_info": {
   "codemirror_mode": {
    "name": "ipython",
    "version": 3
   },
   "file_extension": ".py",
   "mimetype": "text/x-python",
   "name": "python",
   "nbconvert_exporter": "python",
   "pygments_lexer": "ipython3",
   "version": "3.6.5"
  }
 },
 "nbformat": 4,
 "nbformat_minor": 2
}
